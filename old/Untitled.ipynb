{
 "cells": [
  {
   "cell_type": "code",
   "execution_count": 1,
   "id": "4488ebd6",
   "metadata": {},
   "outputs": [
    {
     "name": "stdout",
     "output_type": "stream",
     "text": [
      "Requirement already satisfied: snscrape in c:\\users\\trevor\\appdata\\local\\programs\\python\\python39\\lib\\site-packages (0.4.3.20220107.dev56+gd72b519)\n",
      "Requirement already satisfied: requests[socks] in c:\\users\\trevor\\appdata\\local\\programs\\python\\python39\\lib\\site-packages (from snscrape) (2.28.0)\n",
      "Requirement already satisfied: lxml in c:\\users\\trevor\\appdata\\local\\programs\\python\\python39\\lib\\site-packages\\lxml-4.9.0-py3.9-win-amd64.egg (from snscrape) (4.9.0)\n",
      "Requirement already satisfied: beautifulsoup4 in c:\\users\\trevor\\appdata\\local\\programs\\python\\python39\\lib\\site-packages (from snscrape) (4.11.1)\n",
      "Requirement already satisfied: filelock in c:\\users\\trevor\\appdata\\local\\programs\\python\\python39\\lib\\site-packages (from snscrape) (3.7.1)\n",
      "Requirement already satisfied: soupsieve>1.2 in c:\\users\\trevor\\appdata\\local\\programs\\python\\python39\\lib\\site-packages (from beautifulsoup4->snscrape) (2.3.2.post1)\n",
      "Requirement already satisfied: charset-normalizer~=2.0.0 in c:\\users\\trevor\\appdata\\local\\programs\\python\\python39\\lib\\site-packages (from requests[socks]->snscrape) (2.0.12)\n",
      "Requirement already satisfied: urllib3<1.27,>=1.21.1 in c:\\users\\trevor\\appdata\\local\\programs\\python\\python39\\lib\\site-packages (from requests[socks]->snscrape) (1.26.9)\n",
      "Requirement already satisfied: certifi>=2017.4.17 in c:\\users\\trevor\\appdata\\local\\programs\\python\\python39\\lib\\site-packages (from requests[socks]->snscrape) (2022.6.15)\n",
      "Requirement already satisfied: idna<4,>=2.5 in c:\\users\\trevor\\appdata\\local\\programs\\python\\python39\\lib\\site-packages (from requests[socks]->snscrape) (3.3)\n",
      "Requirement already satisfied: PySocks!=1.5.7,>=1.5.6 in c:\\users\\trevor\\appdata\\roaming\\python\\python39\\site-packages (from requests[socks]->snscrape) (1.7.1)\n",
      "Note: you may need to restart the kernel to use updated packages.\n"
     ]
    },
    {
     "name": "stderr",
     "output_type": "stream",
     "text": [
      "WARNING: You are using pip version 22.0.4; however, version 23.0.1 is available.\n",
      "You should consider upgrading via the 'C:\\Users\\Trevor\\AppData\\Local\\Programs\\Python\\Python39\\python.exe -m pip install --upgrade pip' command.\n"
     ]
    }
   ],
   "source": [
    "pip install snscrape"
   ]
  },
  {
   "cell_type": "code",
   "execution_count": null,
   "id": "de5aeb78",
   "metadata": {},
   "outputs": [],
   "source": [
    "snscrape --max-results 100 twitter-hashtag archiveteam"
   ]
  },
  {
   "cell_type": "code",
   "execution_count": null,
   "id": "79194190",
   "metadata": {},
   "outputs": [],
   "source": []
  },
  {
   "cell_type": "code",
   "execution_count": null,
   "id": "c95a2ec3",
   "metadata": {},
   "outputs": [],
   "source": []
  },
  {
   "cell_type": "code",
   "execution_count": null,
   "id": "f6adb47a",
   "metadata": {},
   "outputs": [],
   "source": []
  },
  {
   "cell_type": "code",
   "execution_count": null,
   "id": "1e948215",
   "metadata": {},
   "outputs": [],
   "source": []
  }
 ],
 "metadata": {
  "kernelspec": {
   "display_name": "Python 3 (ipykernel)",
   "language": "python",
   "name": "python3"
  },
  "language_info": {
   "codemirror_mode": {
    "name": "ipython",
    "version": 3
   },
   "file_extension": ".py",
   "mimetype": "text/x-python",
   "name": "python",
   "nbconvert_exporter": "python",
   "pygments_lexer": "ipython3",
   "version": "3.9.12"
  }
 },
 "nbformat": 4,
 "nbformat_minor": 5
}
